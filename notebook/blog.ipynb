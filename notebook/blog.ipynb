{
 "cells": [
  {
   "cell_type": "code",
   "execution_count": 1,
   "metadata": {},
   "outputs": [],
   "source": [
    "from langchain.prompts import PromptTemplate\n",
    "from langchain_community.llms import CTransformers\n",
    "import warnings\n",
    "warnings.filterwarnings('ignore')"
   ]
  },
  {
   "cell_type": "code",
   "execution_count": 2,
   "metadata": {},
   "outputs": [],
   "source": [
    "### LLama2 model\n",
    "llm=CTransformers(model='../model/llama-2-7b-chat.ggmlv3.q5_1.bin',\n",
    "                  model_type='llama',\n",
    "                  config={'max_new_tokens':256,\n",
    "                          'temperature':0.01})"
   ]
  },
  {
   "cell_type": "code",
   "execution_count": 3,
   "metadata": {},
   "outputs": [],
   "source": [
    "## Prompt Template\n",
    "\n",
    "template=\"\"\"\n",
    "    Write a blog topic on {input_text} for target audience {blog_style}\n",
    "    within {no_words} words.\n",
    "        \"\"\""
   ]
  },
  {
   "cell_type": "code",
   "execution_count": 4,
   "metadata": {},
   "outputs": [],
   "source": [
    "prompt=PromptTemplate(input_variables=[\"blog_style\",\"input_text\",'no_words'],\n",
    "                      template=template)"
   ]
  },
  {
   "cell_type": "code",
   "execution_count": 5,
   "metadata": {},
   "outputs": [],
   "source": [
    "blog_style = 'Researchers'\n",
    "input_text = 'Genomics'\n",
    "no_words = \"three hundred\""
   ]
  },
  {
   "cell_type": "code",
   "execution_count": 6,
   "metadata": {},
   "outputs": [
    {
     "data": {
      "text/plain": [
       "StringPromptValue(text='\\n    Write a blog topic on Genomics for target audience Researchers\\n    within three hundred words.\\n        ')"
      ]
     },
     "execution_count": 6,
     "metadata": {},
     "output_type": "execute_result"
    }
   ],
   "source": [
    "prompt_value = prompt.invoke({\"blog_style\": blog_style, \"input_text\": input_text, \"no_words\": no_words})\n",
    "prompt_value"
   ]
  },
  {
   "cell_type": "code",
   "execution_count": 7,
   "metadata": {},
   "outputs": [
    {
     "name": "stdout",
     "output_type": "stream",
     "text": [
      "1. Introduction:\n",
      "Genomics is the study of the structure, function, and evolution of genomes, which are the complete sets of genetic information contained within an organism's DNA. This field has seen tremendous growth in recent years due to advances in sequencing technologies and computational methods.\n",
      "        2. Importance:\n",
      "Genomics has many practical applications in various fields such as medicine, agriculture, and biotechnology. For example, genomic research has led to the development of new drugs and therapies for diseases, improved crop yields through genetic modification, and a better understanding of how genetic information is passed down from one generation to the next.\n",
      "        3. Future Directions:\n",
      "The future of genomics looks bright as new technologies and computational methods continue to emerge. Areas of focus are likely to include single-cell genomics, epigenomics, and the integration of genomic data with other types of biological data such as transcriptomics and proteomics. Additionally, there is a growing interest in using genomic information for personalized medicine and precision agriculture.\n",
      "        4. Conclusion:\n",
      "In conclusion, genomics is a rapidly\n"
     ]
    }
   ],
   "source": [
    "response = llm.invoke(prompt_value)\n",
    "print(response)"
   ]
  }
 ],
 "metadata": {
  "kernelspec": {
   "display_name": "genAIenv",
   "language": "python",
   "name": "python3"
  },
  "language_info": {
   "codemirror_mode": {
    "name": "ipython",
    "version": 3
   },
   "file_extension": ".py",
   "mimetype": "text/x-python",
   "name": "python",
   "nbconvert_exporter": "python",
   "pygments_lexer": "ipython3",
   "version": "3.9.19"
  }
 },
 "nbformat": 4,
 "nbformat_minor": 2
}
